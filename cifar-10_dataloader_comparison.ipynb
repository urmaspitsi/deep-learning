{
 "cells": [
  {
   "cell_type": "markdown",
   "metadata": {},
   "source": [
    "## Speed comparison between fast.ai and torchvision dataloaders. Using cifar-10 dataset with WideResNet22 as model."
   ]
  },
  {
   "cell_type": "code",
   "execution_count": 1,
   "metadata": {},
   "outputs": [],
   "source": [
    "# sources:\n",
    "#  https://github.com/fastai/fastai/blob/master/courses/dl2/cifar10-dawn.ipynb\n",
    "#  https://github.com/fastai/imagenet-fast/blob/master/cifar10/cifar10-super-convergence-tuned.ipynb\n",
    "#  https://github.com/radekosmulski/machine_learning_notebooks/blob/master/cifar10_fastai_dawnbench.ipynb"
   ]
  },
  {
   "cell_type": "code",
   "execution_count": null,
   "metadata": {},
   "outputs": [],
   "source": [
    "# my hardware:\n",
    "#    Intel i7-7700K@4.2GHz x 8(CPU) (actually 4 cores), 32GB of RAM\n",
    "#    Zotac GeForce 1080Ti 11GB\n",
    "#    MSI Z170I Gaming Pro motherboard"
   ]
  },
  {
   "cell_type": "code",
   "execution_count": 1,
   "metadata": {},
   "outputs": [],
   "source": [
    "%matplotlib inline\n",
    "%reload_ext autoreload\n",
    "%autoreload 2"
   ]
  },
  {
   "cell_type": "code",
   "execution_count": 2,
   "metadata": {},
   "outputs": [],
   "source": [
    "from fastai.conv_learner import *\n",
    "from fastai.models.cifar10.wideresnet import wrn_22\n",
    "from datetime import datetime\n",
    "torch.backends.cudnn.benchmark = True\n",
    "PATH = Path(\"data/cifar10_dirs_by_classes/\")"
   ]
  },
  {
   "cell_type": "code",
   "execution_count": 3,
   "metadata": {},
   "outputs": [],
   "source": [
    "classes = ('plane', 'car', 'bird', 'cat', 'deer', 'dog', 'frog', 'horse', 'ship', 'truck')\n",
    "means,stdevs = (0.4914, 0.48216, 0.44653), (0.24703, 0.24349, 0.26159)\n",
    "stats = (np.array(means), np.array(stdevs))\n",
    "\n",
    "bs=512\n",
    "sz=32\n",
    "wd=1e-4\n",
    "lr=1.5\n",
    "nw=num_cpus()"
   ]
  },
  {
   "cell_type": "markdown",
   "metadata": {},
   "source": [
    "## ver1: with fast.ai dataloaders"
   ]
  },
  {
   "cell_type": "code",
   "execution_count": 11,
   "metadata": {},
   "outputs": [],
   "source": [
    "tfms = tfms_from_stats(stats, sz, aug_tfms=[RandomCrop(sz), RandomFlip()], pad=sz//8)\n",
    "data = ImageClassifierData.from_paths(PATH, val_name='test', tfms=tfms, bs=bs, num_workers=nw)"
   ]
  },
  {
   "cell_type": "code",
   "execution_count": 12,
   "metadata": {},
   "outputs": [],
   "source": [
    "m = wrn_22()"
   ]
  },
  {
   "cell_type": "code",
   "execution_count": 13,
   "metadata": {},
   "outputs": [],
   "source": [
    "learn = ConvLearner.from_model_data(m, data)\n",
    "learn.crit = nn.CrossEntropyLoss()\n",
    "learn.metrics = [accuracy]"
   ]
  },
  {
   "cell_type": "code",
   "execution_count": 7,
   "metadata": {},
   "outputs": [
    {
     "data": {
      "application/vnd.jupyter.widget-view+json": {
       "model_id": "b77f3976123144058bf8d8ac948732d0",
       "version_major": 2,
       "version_minor": 0
      },
      "text/html": [
       "<p>Failed to display Jupyter Widget of type <code>HBox</code>.</p>\n",
       "<p>\n",
       "  If you're reading this message in the Jupyter Notebook or JupyterLab Notebook, it may mean\n",
       "  that the widgets JavaScript is still loading. If this message persists, it\n",
       "  likely means that the widgets JavaScript library is either not installed or\n",
       "  not enabled. See the <a href=\"https://ipywidgets.readthedocs.io/en/stable/user_install.html\">Jupyter\n",
       "  Widgets Documentation</a> for setup instructions.\n",
       "</p>\n",
       "<p>\n",
       "  If you're reading this message in another frontend (for example, a static\n",
       "  rendering on GitHub or <a href=\"https://nbviewer.jupyter.org/\">NBViewer</a>),\n",
       "  it may mean that your frontend doesn't currently support widgets.\n",
       "</p>\n"
      ],
      "text/plain": [
       "HBox(children=(IntProgress(value=0, description='Epoch', max=2), HTML(value='')))"
      ]
     },
     "metadata": {},
     "output_type": "display_data"
    },
    {
     "name": "stdout",
     "output_type": "stream",
     "text": [
      "epoch      trn_loss   val_loss   accuracy                 \n",
      "    0      1.528044   1.415433   0.491     \n",
      "    1      1.071998   0.902383   0.673                    \n",
      "\n",
      "CPU times: user 1min 9s, sys: 36.6 s, total: 1min 45s\n",
      "Wall time: 1min 29s\n"
     ]
    },
    {
     "data": {
      "text/plain": [
       "[array([0.90238]), 0.673]"
      ]
     },
     "execution_count": 7,
     "metadata": {},
     "output_type": "execute_result"
    }
   ],
   "source": [
    "start_time = datetime.now()\n",
    "%time learn.fit(lr, 1, wds=wd, cycle_len=2, use_clr_beta=(20,20,0.95,0.85))\n",
    "end_time = datetime.now()"
   ]
  },
  {
   "cell_type": "code",
   "execution_count": null,
   "metadata": {},
   "outputs": [],
   "source": [
    "str(end_time - start_time)"
   ]
  },
  {
   "cell_type": "code",
   "execution_count": 14,
   "metadata": {},
   "outputs": [
    {
     "data": {
      "application/vnd.jupyter.widget-view+json": {
       "model_id": "b510718ab09649f0bd1d77ecb2fcaeb1",
       "version_major": 2,
       "version_minor": 0
      },
      "text/html": [
       "<p>Failed to display Jupyter Widget of type <code>HBox</code>.</p>\n",
       "<p>\n",
       "  If you're reading this message in the Jupyter Notebook or JupyterLab Notebook, it may mean\n",
       "  that the widgets JavaScript is still loading. If this message persists, it\n",
       "  likely means that the widgets JavaScript library is either not installed or\n",
       "  not enabled. See the <a href=\"https://ipywidgets.readthedocs.io/en/stable/user_install.html\">Jupyter\n",
       "  Widgets Documentation</a> for setup instructions.\n",
       "</p>\n",
       "<p>\n",
       "  If you're reading this message in another frontend (for example, a static\n",
       "  rendering on GitHub or <a href=\"https://nbviewer.jupyter.org/\">NBViewer</a>),\n",
       "  it may mean that your frontend doesn't currently support widgets.\n",
       "</p>\n"
      ],
      "text/plain": [
       "HBox(children=(IntProgress(value=0, description='Epoch', max=30), HTML(value='')))"
      ]
     },
     "metadata": {},
     "output_type": "display_data"
    },
    {
     "name": "stdout",
     "output_type": "stream",
     "text": [
      "epoch      trn_loss   val_loss   accuracy                 \n",
      "    0      1.463027   1.828972   0.4145    \n",
      "    1      1.047709   1.172208   0.6129                   \n",
      "    2      0.830867   0.928634   0.6605                    \n",
      "    3      0.674442   1.056057   0.6641                    \n",
      "    4      0.572754   0.74402    0.7418                    \n",
      "    5      0.502476   0.60076    0.794                     \n",
      "    6      0.461384   0.548186   0.8144                    \n",
      "    7      0.427653   0.526555   0.8237                    \n",
      "    8      0.394464   0.542668   0.8191                    \n",
      "    9      0.365919   0.511267   0.8277                    \n",
      "    10     0.369863   0.515518   0.8269                    \n",
      "    11     0.338405   0.573855   0.8167                    \n",
      "    12     0.324958   0.682364   0.785                     \n",
      "    13     0.296051   0.804754   0.759                     \n",
      "    14     0.283267   0.663231   0.7965                    \n",
      "    15     0.267195   0.594402   0.812                     \n",
      "    16     0.252582   0.412788   0.8629                    \n",
      "    17     0.236616   0.379328   0.874                     \n",
      "    18     0.220429   0.455428   0.8512                    \n",
      "    19     0.205483   0.478721   0.8566                    \n",
      "    20     0.186807   0.363273   0.8817                    \n",
      "    21     0.156948   0.288677   0.9026                    \n",
      "    22     0.122732   0.295726   0.9065                    \n",
      "    23     0.085245   0.227437   0.9259                     \n",
      "    24     0.053549   0.207119   0.934                      \n",
      "    25     0.040111   0.210529   0.938                      \n",
      "    26     0.032652   0.205069   0.9391                     \n",
      "    27     0.025915   0.202696   0.9412                     \n",
      "    28     0.021377   0.204625   0.9423                     \n",
      "    29     0.017815   0.204024   0.941                      \n",
      "\n",
      "CPU times: user 17min 1s, sys: 8min 51s, total: 25min 53s\n",
      "Wall time: 21min 34s\n"
     ]
    }
   ],
   "source": [
    "start_time = datetime.now()\n",
    "%time learn.fit(lr, 1, wds=wd, cycle_len=30, use_clr_beta=(20,20,0.95,0.85))\n",
    "end_time = datetime.now()"
   ]
  },
  {
   "cell_type": "code",
   "execution_count": 15,
   "metadata": {},
   "outputs": [
    {
     "data": {
      "text/plain": [
       "'0:21:34.236471'"
      ]
     },
     "execution_count": 15,
     "metadata": {},
     "output_type": "execute_result"
    }
   ],
   "source": [
    "str(end_time - start_time)"
   ]
  },
  {
   "cell_type": "markdown",
   "metadata": {},
   "source": [
    "## ver2: with torchvision dataloaders"
   ]
  },
  {
   "cell_type": "code",
   "execution_count": 4,
   "metadata": {},
   "outputs": [],
   "source": [
    "from torchvision import transforms as tvtf, datasets as tvds\n",
    "from torch.utils.data import DataLoader as tdl"
   ]
  },
  {
   "cell_type": "code",
   "execution_count": 5,
   "metadata": {},
   "outputs": [],
   "source": [
    "def get_loaders(bs, num_workers):\n",
    "    traindir, valdir = str(PATH/'train'), str(PATH/'test')\n",
    "    tfms = [tvtf.ToTensor(), tvtf.Normalize(means,stdevs)]\n",
    "    aug_tfms = tvtf.Compose([tvtf.RandomCrop(sz, padding=4), tvtf.RandomHorizontalFlip()] + tfms)\n",
    "\n",
    "    train_dataset = tvds.ImageFolder(traindir, aug_tfms)\n",
    "    val_dataset = tvds.ImageFolder(valdir, tvtf.Compose(tfms))\n",
    "    aug_dataset = tvds.ImageFolder(valdir, aug_tfms)\n",
    "\n",
    "    train_loader = tdl(train_dataset, batch_size=bs, shuffle=True, num_workers=num_workers, pin_memory=True)\n",
    "    val_loader = tdl(val_dataset, batch_size=bs, shuffle=False, num_workers=num_workers, pin_memory=True)\n",
    "    aug_loader = tdl(aug_dataset, batch_size=bs, shuffle=False, num_workers=num_workers, pin_memory=True)\n",
    "\n",
    "    return train_loader, val_loader, aug_loader\n",
    "\n",
    "def get_data(bs, num_workers):\n",
    "    trn_dl, val_dl, aug_dl = get_loaders(bs, num_workers)\n",
    "    d = ModelData(PATH, trn_dl, val_dl)\n",
    "    d.aug_dl = aug_dl\n",
    "    d.sz=sz\n",
    "    return d\n",
    "\n",
    "data = get_data(bs, nw)"
   ]
  },
  {
   "cell_type": "code",
   "execution_count": 6,
   "metadata": {},
   "outputs": [],
   "source": [
    "m = wrn_22()"
   ]
  },
  {
   "cell_type": "code",
   "execution_count": 7,
   "metadata": {},
   "outputs": [],
   "source": [
    "learn = ConvLearner.from_model_data(m, data)\n",
    "learn.crit = nn.CrossEntropyLoss()\n",
    "learn.metrics = [accuracy]"
   ]
  },
  {
   "cell_type": "code",
   "execution_count": 12,
   "metadata": {},
   "outputs": [
    {
     "data": {
      "application/vnd.jupyter.widget-view+json": {
       "model_id": "1f325b53d0c34d2a850d61068eae6bc9",
       "version_major": 2,
       "version_minor": 0
      },
      "text/html": [
       "<p>Failed to display Jupyter Widget of type <code>HBox</code>.</p>\n",
       "<p>\n",
       "  If you're reading this message in the Jupyter Notebook or JupyterLab Notebook, it may mean\n",
       "  that the widgets JavaScript is still loading. If this message persists, it\n",
       "  likely means that the widgets JavaScript library is either not installed or\n",
       "  not enabled. See the <a href=\"https://ipywidgets.readthedocs.io/en/stable/user_install.html\">Jupyter\n",
       "  Widgets Documentation</a> for setup instructions.\n",
       "</p>\n",
       "<p>\n",
       "  If you're reading this message in another frontend (for example, a static\n",
       "  rendering on GitHub or <a href=\"https://nbviewer.jupyter.org/\">NBViewer</a>),\n",
       "  it may mean that your frontend doesn't currently support widgets.\n",
       "</p>\n"
      ],
      "text/plain": [
       "HBox(children=(IntProgress(value=0, description='Epoch', max=2), HTML(value='')))"
      ]
     },
     "metadata": {},
     "output_type": "display_data"
    },
    {
     "name": "stdout",
     "output_type": "stream",
     "text": [
      "epoch      trn_loss   val_loss   accuracy                 \n",
      "    0      1.580392   1.649794   0.4413    \n",
      "    1      1.1049     0.96543    0.6573                   \n",
      "\n",
      "CPU times: user 54.7 s, sys: 24.4 s, total: 1min 19s\n",
      "Wall time: 1min 19s\n"
     ]
    },
    {
     "data": {
      "text/plain": [
       "[array([0.96543]), 0.6573]"
      ]
     },
     "execution_count": 12,
     "metadata": {},
     "output_type": "execute_result"
    }
   ],
   "source": [
    "start_time = datetime.now()\n",
    "%time learn.fit(lr, 1, wds=wd, cycle_len=2, use_clr_beta=(20,20,0.95,0.85))\n",
    "end_time = datetime.now()"
   ]
  },
  {
   "cell_type": "code",
   "execution_count": null,
   "metadata": {},
   "outputs": [],
   "source": [
    "str(end_time - start_time)"
   ]
  },
  {
   "cell_type": "code",
   "execution_count": 8,
   "metadata": {},
   "outputs": [
    {
     "data": {
      "application/vnd.jupyter.widget-view+json": {
       "model_id": "a788c479b329408c842a8aab0b4a8ff4",
       "version_major": 2,
       "version_minor": 0
      },
      "text/html": [
       "<p>Failed to display Jupyter Widget of type <code>HBox</code>.</p>\n",
       "<p>\n",
       "  If you're reading this message in the Jupyter Notebook or JupyterLab Notebook, it may mean\n",
       "  that the widgets JavaScript is still loading. If this message persists, it\n",
       "  likely means that the widgets JavaScript library is either not installed or\n",
       "  not enabled. See the <a href=\"https://ipywidgets.readthedocs.io/en/stable/user_install.html\">Jupyter\n",
       "  Widgets Documentation</a> for setup instructions.\n",
       "</p>\n",
       "<p>\n",
       "  If you're reading this message in another frontend (for example, a static\n",
       "  rendering on GitHub or <a href=\"https://nbviewer.jupyter.org/\">NBViewer</a>),\n",
       "  it may mean that your frontend doesn't currently support widgets.\n",
       "</p>\n"
      ],
      "text/plain": [
       "HBox(children=(IntProgress(value=0, description='Epoch', max=30), HTML(value='')))"
      ]
     },
     "metadata": {},
     "output_type": "display_data"
    },
    {
     "name": "stdout",
     "output_type": "stream",
     "text": [
      "epoch      trn_loss   val_loss   accuracy                 \n",
      "    0      1.466761   4.471314   0.2675    \n",
      "    1      1.072684   1.31925    0.5971                   \n",
      "    2      0.852208   0.979466   0.6731                    \n",
      "    3      0.693892   0.783403   0.7326                    \n",
      "    4      0.597067   0.623417   0.7849                    \n",
      "    5      0.522471   0.723941   0.7585                    \n",
      "    6      0.482226   0.794252   0.7452                    \n",
      "    7      0.437199   0.707461   0.7717                    \n",
      "    8      0.407294   0.659782   0.7833                    \n",
      "    9      0.388441   0.607679   0.8039                    \n",
      "    10     0.369216   0.678423   0.7856                    \n",
      "    11     0.347235   1.174847   0.6896                    \n",
      "    12     0.333878   0.584167   0.8052                    \n",
      "    13     0.312995   0.952613   0.7358                    \n",
      "    14     0.306139   0.498115   0.8396                    \n",
      "    15     0.279794   0.682821   0.7882                    \n",
      "    16     0.263999   0.744998   0.7748                    \n",
      "    17     0.249408   0.570632   0.8259                    \n",
      "    18     0.236294   0.428383   0.861                     \n",
      "    19     0.218459   0.6329     0.8151                    \n",
      "    20     0.188276   0.413193   0.8712                    \n",
      "    21     0.158381   0.419984   0.8699                    \n",
      "    22     0.126725   0.317851   0.9023                    \n",
      "    23     0.086751   0.268383   0.9211                     \n",
      "    24     0.054343   0.236622   0.9288                     \n",
      "    25     0.04081    0.258365   0.9267                     \n",
      "    26     0.030977   0.259462   0.929                      \n",
      "    27     0.024757   0.251694   0.9306                     \n",
      "    28     0.019867   0.250788   0.9329                     \n",
      "    29     0.017747   0.252345   0.9324                     \n",
      "\n",
      "CPU times: user 13min 55s, sys: 7min 3s, total: 20min 58s\n",
      "Wall time: 21min 8s\n"
     ]
    }
   ],
   "source": [
    "start_time = datetime.now()\n",
    "%time learn.fit(lr, 1, wds=wd, cycle_len=30, use_clr_beta=(20,20,0.95,0.85))\n",
    "end_time = datetime.now()"
   ]
  },
  {
   "cell_type": "code",
   "execution_count": 9,
   "metadata": {},
   "outputs": [
    {
     "data": {
      "text/plain": [
       "'0:21:08.322093'"
      ]
     },
     "execution_count": 9,
     "metadata": {},
     "output_type": "execute_result"
    }
   ],
   "source": [
    "str(end_time - start_time)"
   ]
  },
  {
   "cell_type": "markdown",
   "metadata": {},
   "source": [
    "## Conclusion"
   ]
  },
  {
   "cell_type": "markdown",
   "metadata": {},
   "source": [
    "Average run times:\n",
    "\n",
    "\n",
    "ver1 = 90sec\n",
    "\n",
    "\n",
    "ver2 = 80sec\n"
   ]
  }
 ],
 "metadata": {
  "kernelspec": {
   "display_name": "Python 3",
   "language": "python",
   "name": "python3"
  },
  "language_info": {
   "codemirror_mode": {
    "name": "ipython",
    "version": 3
   },
   "file_extension": ".py",
   "mimetype": "text/x-python",
   "name": "python",
   "nbconvert_exporter": "python",
   "pygments_lexer": "ipython3",
   "version": "3.6.4"
  }
 },
 "nbformat": 4,
 "nbformat_minor": 2
}
